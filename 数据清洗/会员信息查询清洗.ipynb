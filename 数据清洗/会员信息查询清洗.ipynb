{
 "cells": [
  {
   "cell_type": "code",
   "execution_count": 1,
   "metadata": {},
   "outputs": [],
   "source": [
    "# 导入必要的库\n",
    "import pandas as pd\n",
    "import numpy as np\n"
   ]
  },
  {
   "cell_type": "code",
   "execution_count": 2,
   "metadata": {},
   "outputs": [
    {
     "name": "stdout",
     "output_type": "stream",
     "text": [
      "<class 'pandas.core.frame.DataFrame'>\n",
      "RangeIndex: 952714 entries, 0 to 952713\n",
      "Data columns (total 12 columns):\n",
      " #   Column  Non-Null Count   Dtype         \n",
      "---  ------  --------------   -----         \n",
      " 0   会员卡号    952714 non-null  object        \n",
      " 1   会员等级    952714 non-null  object        \n",
      " 2   会员来源    952714 non-null  object        \n",
      " 3   注册时间    952714 non-null  datetime64[ns]\n",
      " 4   所属店铺编码  952714 non-null  object        \n",
      " 5   门店店员编码  253828 non-null  object        \n",
      " 6   省份      264801 non-null  object        \n",
      " 7   城市      264758 non-null  object        \n",
      " 8   性别      952714 non-null  object        \n",
      " 9   生日      785590 non-null  object        \n",
      " 10  年齡      952705 non-null  float64       \n",
      " 11  生命级别    952714 non-null  object        \n",
      "dtypes: datetime64[ns](1), float64(1), object(10)\n",
      "memory usage: 87.2+ MB\n"
     ]
    }
   ],
   "source": [
    "# 读取会员信息查询数据\n",
    "member_df = pd.read_excel('会员信息查询.xlsx')\n",
    "\n",
    "# 查看数据的基本信息\n",
    "member_df.info()"
   ]
  },
  {
   "cell_type": "markdown",
   "metadata": {},
   "source": [
    "有些列存在缺失值：\n",
    "门店店员编码：只有253,828个非空值（约73%的数据缺失）\n",
    "省份：只有264,801个非空值（约72%的数据缺失）\n",
    "城市：只有264,758个非空值（约72%的数据缺失）\n",
    "生日：有785,590个非空值（约18%的数据缺失）\n",
    "年龄：有952,705个非空值（几乎没有缺失）\n",
    "\n",
    "针对缺失严重的列直接删除，没有分析价值 省份、城市、门店店员编码"
   ]
  },
  {
   "cell_type": "code",
   "execution_count": 4,
   "metadata": {},
   "outputs": [
    {
     "name": "stdout",
     "output_type": "stream",
     "text": [
      "删除列后的数据结构:\n",
      "<class 'pandas.core.frame.DataFrame'>\n",
      "RangeIndex: 952714 entries, 0 to 952713\n",
      "Data columns (total 9 columns):\n",
      " #   Column  Non-Null Count   Dtype         \n",
      "---  ------  --------------   -----         \n",
      " 0   会员卡号    952714 non-null  object        \n",
      " 1   会员等级    952714 non-null  object        \n",
      " 2   会员来源    952714 non-null  object        \n",
      " 3   注册时间    952714 non-null  datetime64[ns]\n",
      " 4   所属店铺编码  952714 non-null  object        \n",
      " 5   性别      952714 non-null  object        \n",
      " 6   生日      785590 non-null  object        \n",
      " 7   年齡      952705 non-null  float64       \n",
      " 8   生命级别    952714 non-null  object        \n",
      "dtypes: datetime64[ns](1), float64(1), object(7)\n",
      "memory usage: 65.4+ MB\n"
     ]
    }
   ],
   "source": [
    "# 删除缺失严重的列\n",
    "columns_to_drop = ['门店店员编码', '省份', '城市']\n",
    "member_df = member_df.drop(columns=columns_to_drop)\n",
    "\n",
    "# 查看处理后的数据结构\n",
    "print(\"删除列后的数据结构:\")\n",
    "member_df.info()"
   ]
  },
  {
   "cell_type": "code",
   "execution_count": 6,
   "metadata": {},
   "outputs": [
    {
     "name": "stdout",
     "output_type": "stream",
     "text": [
      "数据前5行:\n",
      "                    会员卡号  会员等级  会员来源                    注册时间  所属店铺编码 性别  \\\n",
      "0  BL6099033963550303769  黄金会员  线下扫码 2019-03-31 23:55:03.977  DPXX07  女   \n",
      "1  BL6099033963450303763  黄金会员  线下扫码 2019-03-31 23:45:03.005  DPXX07  女   \n",
      "2  BL6099033963464003767  白银会员  电商入口 2019-03-31 23:42:40.073  DPS00X  女   \n",
      "3  BL6099033963460503766  黄金会员  线下扫码 2019-03-31 23:42:05.516  DPXX07  女   \n",
      "4  BL6099033963660603765  白银会员  电商入口 2019-03-31 23:26:02.402  DPS00X  女   \n",
      "\n",
      "           生日    年齡 生命级别  \n",
      "0  1975-04-04  43.0   活跃  \n",
      "1  1982-04-02  36.0   活跃  \n",
      "2  1988-08-13  30.0   沉睡  \n",
      "3  1993-11-24  25.0   活跃  \n",
      "4  1993-03-20  26.0   沉睡  \n",
      "\n",
      "数值列统计信息:\n",
      "                                注册时间             年齡\n",
      "count                         952714  952705.000000\n",
      "mean   2018-03-04 14:43:11.089170176      28.968969\n",
      "min              2017-08-03 00:00:00      -1.000000\n",
      "25%              2017-08-03 00:00:00      24.000000\n",
      "50%    2018-03-25 17:33:58.086499840      31.000000\n",
      "75%    2018-09-01 13:21:11.283750144      39.000000\n",
      "max       2019-03-31 23:55:03.977000     147.000000\n",
      "std                              NaN      16.004304\n",
      "\n",
      "会员等级分布:\n",
      "会员等级\n",
      "白银会员    807615\n",
      "黄金会员    143487\n",
      "铂金会员      1123\n",
      "钻石会员       489\n",
      "Name: count, dtype: int64\n",
      "\n",
      "会员来源分布:\n",
      "会员来源\n",
      "线下扫码    881379\n",
      "电商入口     71335\n",
      "Name: count, dtype: int64\n",
      "\n",
      "性别分布:\n",
      "性别\n",
      "女     868595\n",
      "男      84117\n",
      "未知         2\n",
      "Name: count, dtype: int64\n",
      "\n",
      "生命级别分布:\n",
      "生命级别\n",
      "沉睡    802968\n",
      "活跃     64153\n",
      "休眠     62662\n",
      "互动     22931\n",
      "Name: count, dtype: int64\n",
      "\n",
      "生日列示例:\n",
      "0    1975-04-04\n",
      "1    1982-04-02\n",
      "2    1988-08-13\n",
      "3    1993-11-24\n",
      "4    1993-03-20\n",
      "5    1985-04-19\n",
      "6    1976-02-26\n",
      "7    2000-02-18\n",
      "8    1992-10-20\n",
      "9    1984-10-30\n",
      "Name: 生日, dtype: object\n",
      "\n",
      "年龄缺失值数量: 9\n",
      "年龄异常值(小于0或大于120): 8\n"
     ]
    }
   ],
   "source": [
    "# 查看数据的前几行\n",
    "print(\"数据前5行:\")\n",
    "print(member_df.head())\n",
    "\n",
    "# 查看数值列的基本统计信息\n",
    "print(\"\\n数值列统计信息:\")\n",
    "print(member_df.describe())\n",
    "\n",
    "# 查看分类列的分布情况\n",
    "print(\"\\n会员等级分布:\")\n",
    "print(member_df['会员等级'].value_counts())\n",
    "\n",
    "print(\"\\n会员来源分布:\")\n",
    "print(member_df['会员来源'].value_counts())\n",
    "\n",
    "print(\"\\n性别分布:\")\n",
    "print(member_df['性别'].value_counts())\n",
    "\n",
    "print(\"\\n生命级别分布:\")\n",
    "print(member_df['生命级别'].value_counts())\n",
    "\n",
    "# 检查生日列的格式\n",
    "print(\"\\n生日列示例:\")\n",
    "print(member_df['生日'].head(10))\n",
    "\n",
    "# 检查年龄的缺失值和异常值\n",
    "print(\"\\n年龄缺失值数量:\", member_df['年齡'].isnull().sum())\n",
    "print(\"年龄异常值(小于0或大于120):\", \n",
    "      ((member_df['年齡'] < 0) | (member_df['年齡'] > 120)).sum())"
   ]
  },
  {
   "cell_type": "markdown",
   "metadata": {},
   "source": [
    "数据概览：\n",
    "会员等级：\n",
    "大多数会员是白银会员(85%)，其次是黄金会员(15%)\n",
    "铂金和钻石会员较少，分别只有1,123和489人\n",
    "会员来源：\n",
    "92%的会员来自线下扫码\n",
    "8%的会员来自电商入口\n",
    "性别分布：\n",
    "约91%是女性会员\n",
    "9%是男性会员\n",
    "只有2个未知性别\n",
    "生命级别：\n",
    "84%的会员处于\"沉睡\"状态\n",
    "约7%的会员\"活跃\"\n",
    "约7%的会员\"休眠\"\n",
    "约2%的会员处于\"互动\"状态\n",
    "年龄：\n",
    "平均年龄约29岁\n",
    "有9个缺失值\n",
    "有8个异常值（年龄<0或>120）\n",
    "年龄范围从-1到147岁，明显有问题的数据\n",
    "生日：\n",
    "约17%的生日数据缺失\n",
    "生日格式看起来正常，是字符串格式的日期"
   ]
  },
  {
   "cell_type": "markdown",
   "metadata": {},
   "source": [
    "先处理年龄的异常值 然后转换生日数值类型 然后检车是否有重复会员"
   ]
  },
  {
   "cell_type": "code",
   "execution_count": 7,
   "metadata": {},
   "outputs": [
    {
     "name": "stdout",
     "output_type": "stream",
     "text": [
      "处理后的年龄缺失值数量: 17\n",
      "转换后的生日缺失值数量: 168157\n",
      "重复的会员卡号数量: 8104\n",
      "\n",
      "重复卡号示例:\n",
      "             会员卡号  会员等级       注册时间 性别    年齡\n",
      "700742  000353AAC  白银会员 2017-08-03  女   0.0\n",
      "803457  000353AAC  白银会员 2017-08-03  女   0.0\n",
      "684956  000390A6D  白银会员 2017-08-03  女  36.0\n",
      "819576  000390A6D  白银会员 2017-08-03  女  26.0\n",
      "683824  000393A59  白银会员 2017-08-03  女  28.0\n",
      "818711  000393A59  白银会员 2017-08-03  女   0.0\n",
      "804210  000639B9A  白银会员 2017-08-03  女   0.0\n",
      "722183  000639B9A  白银会员 2017-08-03  女   0.0\n",
      "716655  000649B39  白银会员 2017-08-03  女  34.0\n",
      "736707  000649B39  白银会员 2017-08-03  女   0.0\n"
     ]
    }
   ],
   "source": [
    "# 1. 处理年龄异常值\n",
    "# 只将极端异常的年龄值设为NaN (小于0或大于120岁)\n",
    "member_df.loc[(member_df['年齡'] < 0) | (member_df['年齡'] > 120), '年齡'] = np.nan\n",
    "print(\"处理后的年龄缺失值数量:\", member_df['年齡'].isnull().sum())\n",
    "\n",
    "# 2. 将生日转换为datetime类型\n",
    "member_df['生日'] = pd.to_datetime(member_df['生日'], errors='coerce')\n",
    "print(\"转换后的生日缺失值数量:\", member_df['生日'].isnull().sum())\n",
    "\n",
    "# 3. 检查数据是否有重复会员卡号\n",
    "duplicate_cards = member_df['会员卡号'].duplicated().sum()\n",
    "print(f\"重复的会员卡号数量: {duplicate_cards}\")\n",
    "\n",
    "# 如果有重复卡号，查看一些示例\n",
    "if duplicate_cards > 0:\n",
    "    print(\"\\n重复卡号示例:\")\n",
    "    duplicated_card_examples = member_df[member_df['会员卡号'].duplicated(keep=False)].sort_values('会员卡号').head(10)\n",
    "    print(duplicated_card_examples[['会员卡号', '会员等级', '注册时间', '性别', '年齡']])"
   ]
  },
  {
   "cell_type": "markdown",
   "metadata": {},
   "source": [
    "8104条会员卡号重复，这里为了进行分析简单处理 去重取第一条"
   ]
  },
  {
   "cell_type": "code",
   "execution_count": 9,
   "metadata": {},
   "outputs": [
    {
     "name": "stdout",
     "output_type": "stream",
     "text": [
      "去重前记录数: 952714\n",
      "去重后记录数: 944610\n",
      "移除的重复记录数: 8104\n"
     ]
    }
   ],
   "source": [
    "# 保留每个会员卡号的第一条记录\n",
    "member_df_no_duplicates = member_df.drop_duplicates(subset=['会员卡号'], keep='first')\n",
    "\n",
    "# 查看去重前后的数据量\n",
    "print(f\"去重前记录数: {member_df.shape[0]}\")\n",
    "print(f\"去重后记录数: {member_df_no_duplicates.shape[0]}\")\n",
    "print(f\"移除的重复记录数: {member_df.shape[0] - member_df_no_duplicates.shape[0]}\")\n",
    "\n",
    "# 使用去重后的数据继续操作\n",
    "member_df = member_df_no_duplicates"
   ]
  },
  {
   "cell_type": "markdown",
   "metadata": {},
   "source": [
    "去重完毕，看看会员等级和性别的值分布"
   ]
  },
  {
   "cell_type": "code",
   "execution_count": 10,
   "metadata": {},
   "outputs": [
    {
     "data": {
      "text/plain": [
       "会员等级\n",
       "白银会员    800146\n",
       "黄金会员    142874\n",
       "铂金会员      1106\n",
       "钻石会员       484\n",
       "Name: count, dtype: int64"
      ]
     },
     "execution_count": 10,
     "metadata": {},
     "output_type": "execute_result"
    }
   ],
   "source": [
    "# 1. 检查会员等级和性别是否存在异常值\n",
    "member_df['会员等级'].value_counts()"
   ]
  },
  {
   "cell_type": "code",
   "execution_count": 11,
   "metadata": {},
   "outputs": [
    {
     "data": {
      "text/plain": [
       "性别\n",
       "女     860582\n",
       "男      84026\n",
       "未知         2\n",
       "Name: count, dtype: int64"
      ]
     },
     "execution_count": 11,
     "metadata": {},
     "output_type": "execute_result"
    }
   ],
   "source": [
    "# 检查性别分布\n",
    "member_df['性别'].value_counts()"
   ]
  },
  {
   "cell_type": "code",
   "execution_count": 12,
   "metadata": {},
   "outputs": [
    {
     "data": {
      "text/plain": [
       "生命级别\n",
       "沉睡    795419\n",
       "活跃     63967\n",
       "休眠     62408\n",
       "互动     22816\n",
       "Name: count, dtype: int64"
      ]
     },
     "execution_count": 12,
     "metadata": {},
     "output_type": "execute_result"
    }
   ],
   "source": [
    "# 检查生命级别分布\n",
    "member_df['生命级别'].value_counts()"
   ]
  },
  {
   "cell_type": "markdown",
   "metadata": {},
   "source": [
    "创建缺失率函数，然后算出每列的缺失率"
   ]
  },
  {
   "cell_type": "code",
   "execution_count": 13,
   "metadata": {},
   "outputs": [
    {
     "data": {
      "text/html": [
       "<div>\n",
       "<style scoped>\n",
       "    .dataframe tbody tr th:only-of-type {\n",
       "        vertical-align: middle;\n",
       "    }\n",
       "\n",
       "    .dataframe tbody tr th {\n",
       "        vertical-align: top;\n",
       "    }\n",
       "\n",
       "    .dataframe thead th {\n",
       "        text-align: right;\n",
       "    }\n",
       "</style>\n",
       "<table border=\"1\" class=\"dataframe\">\n",
       "  <thead>\n",
       "    <tr style=\"text-align: right;\">\n",
       "      <th></th>\n",
       "      <th>缺失值数量</th>\n",
       "      <th>缺失率(%)</th>\n",
       "    </tr>\n",
       "  </thead>\n",
       "  <tbody>\n",
       "    <tr>\n",
       "      <th>生日</th>\n",
       "      <td>166041</td>\n",
       "      <td>17.57773</td>\n",
       "    </tr>\n",
       "    <tr>\n",
       "      <th>年齡</th>\n",
       "      <td>17</td>\n",
       "      <td>0.00180</td>\n",
       "    </tr>\n",
       "    <tr>\n",
       "      <th>会员卡号</th>\n",
       "      <td>0</td>\n",
       "      <td>0.00000</td>\n",
       "    </tr>\n",
       "    <tr>\n",
       "      <th>会员等级</th>\n",
       "      <td>0</td>\n",
       "      <td>0.00000</td>\n",
       "    </tr>\n",
       "    <tr>\n",
       "      <th>会员来源</th>\n",
       "      <td>0</td>\n",
       "      <td>0.00000</td>\n",
       "    </tr>\n",
       "    <tr>\n",
       "      <th>所属店铺编码</th>\n",
       "      <td>0</td>\n",
       "      <td>0.00000</td>\n",
       "    </tr>\n",
       "    <tr>\n",
       "      <th>注册时间</th>\n",
       "      <td>0</td>\n",
       "      <td>0.00000</td>\n",
       "    </tr>\n",
       "    <tr>\n",
       "      <th>性别</th>\n",
       "      <td>0</td>\n",
       "      <td>0.00000</td>\n",
       "    </tr>\n",
       "    <tr>\n",
       "      <th>生命级别</th>\n",
       "      <td>0</td>\n",
       "      <td>0.00000</td>\n",
       "    </tr>\n",
       "  </tbody>\n",
       "</table>\n",
       "</div>"
      ],
      "text/plain": [
       "         缺失值数量    缺失率(%)\n",
       "生日      166041  17.57773\n",
       "年齡          17   0.00180\n",
       "会员卡号         0   0.00000\n",
       "会员等级         0   0.00000\n",
       "会员来源         0   0.00000\n",
       "所属店铺编码       0   0.00000\n",
       "注册时间         0   0.00000\n",
       "性别           0   0.00000\n",
       "生命级别         0   0.00000"
      ]
     },
     "execution_count": 13,
     "metadata": {},
     "output_type": "execute_result"
    }
   ],
   "source": [
    "# 创建一个计算缺失率的函数\n",
    "def missing_rate(df):\n",
    "    \"\"\"计算每列的缺失率\"\"\"\n",
    "    missing = df.isnull().sum()\n",
    "    missing_percent = (missing / len(df)) * 100\n",
    "    missing_stats = pd.DataFrame({'缺失值数量': missing, '缺失率(%)': missing_percent})\n",
    "    return missing_stats.sort_values('缺失率(%)', ascending=False)\n",
    "\n",
    "# 计算并显示各列缺失率\n",
    "missing_rate(member_df)"
   ]
  },
  {
   "cell_type": "code",
   "execution_count": 14,
   "metadata": {},
   "outputs": [
    {
     "data": {
      "text/plain": [
       "'删除前行数: 944610，删除后行数: 778569，删除了 166041 行 (17.58%)'"
      ]
     },
     "execution_count": 14,
     "metadata": {},
     "output_type": "execute_result"
    }
   ],
   "source": [
    "# 删除生日缺失的行\n",
    "rows_before = len(member_df)\n",
    "member_df = member_df.dropna(subset=['生日'])\n",
    "rows_after = len(member_df)\n",
    "\n",
    "# 显示删除的行数和比例\n",
    "f\"删除前行数: {rows_before}，删除后行数: {rows_after}，删除了 {rows_before - rows_after} 行 ({((rows_before - rows_after) / rows_before) * 100:.2f}%)\""
   ]
  },
  {
   "cell_type": "markdown",
   "metadata": {},
   "source": [
    "导出文件"
   ]
  },
  {
   "cell_type": "code",
   "execution_count": null,
   "metadata": {},
   "outputs": [],
   "source": [
    "# 导出清洗后的会员信息数据\n",
    "member_df.to_excel('会员信息查询_清洗后.xlsx', index=False)\n",
    "\n",
    "# 显示导出的数据形状\n",
    "f\"已导出清洗后的数据，共 {member_df.shape[0]} 行 {member_df.shape[1]} 列\""
   ]
  }
 ],
 "metadata": {
  "kernelspec": {
   "display_name": "Python 3",
   "language": "python",
   "name": "python3"
  },
  "language_info": {
   "codemirror_mode": {
    "name": "ipython",
    "version": 3
   },
   "file_extension": ".py",
   "mimetype": "text/x-python",
   "name": "python",
   "nbconvert_exporter": "python",
   "pygments_lexer": "ipython3",
   "version": "3.12.9"
  }
 },
 "nbformat": 4,
 "nbformat_minor": 2
}
